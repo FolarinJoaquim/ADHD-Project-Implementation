{
  "nbformat": 4,
  "nbformat_minor": 0,
  "metadata": {
    "colab": {
      "provenance": [],
      "authorship_tag": "ABX9TyP+vSzQnD1EEgDY7Wlo1dEB",
      "include_colab_link": true
    },
    "kernelspec": {
      "name": "python3",
      "display_name": "Python 3"
    },
    "language_info": {
      "name": "python"
    }
  },
  "cells": [
    {
      "cell_type": "markdown",
      "metadata": {
        "id": "view-in-github",
        "colab_type": "text"
      },
      "source": [
        "<a href=\"https://colab.research.google.com/github/FolarinJoaquim/ADHD-Project-Implementation/blob/main/template_py.ipynb\" target=\"_parent\"><img src=\"https://colab.research.google.com/assets/colab-badge.svg\" alt=\"Open In Colab\"/></a>"
      ]
    },
    {
      "cell_type": "code",
      "source": [
        "import os\n",
        "from pathlib import Path\n",
        "import logging\n",
        "\n",
        "logging.basicConfig(level=logging.INFO, format='[%(asctime)s] - %(name)s - %(levelname)s - %(message)s:')"
      ],
      "metadata": {
        "id": "etp3Ae8j6Njn"
      },
      "execution_count": 4,
      "outputs": []
    },
    {
      "cell_type": "code",
      "execution_count": 6,
      "metadata": {
        "id": "bh2OubGGjX2V"
      },
      "outputs": [],
      "source": [
        "project_name = 'ADHD_Reddit'\n",
        "\n",
        "list_of_files = [\n",
        "                 f\"{project_name}/components/__init__.py\",\n",
        "                 f\"{project_name}/components/data_ingestion.py\",\n",
        "                 f\"{project_name}/components/data_transformation.py\",\n",
        "                 f\"{project_name}/components/model_trainer.py\",\n",
        "                 f\"{project_name}/components/model_evaluation.py\",\n",
        "                 f\"{project_name}/components/model_pusher.py\",\n",
        "                 f\"{project_name}/configuration/__init__.py.py\",\n",
        "                 f\"{project_name}/configuration/gcloud_syncer.py\",\n",
        "                 f\"{project_name}/constants/__init__.py\",\n",
        "                 f\"{project_name}/entity/config_entity.py\",\n",
        "                 f\"{project_name}/entity/artifact_entity.py\",\n",
        "                 f\"{project_name}/exception/__init__.py\",\n",
        "                 f\"{project_name}/logger/__init__.py\",\n",
        "                 f\"{project_name}/pipeline/__init__.py\",\n",
        "                 f\"{project_name}/pipeline/train_pipeline.py\",\n",
        "                 f\"{project_name}/pipeline/prediction_pipeline.py\",\n",
        "                 f\"{project_name}/ml/__init__.py\",\n",
        "                 f\"{project_name}/ml/model.py\",\n",
        "                 \"app.py\",\n",
        "                 \"demo.py\",\n",
        "                 \"requirements.txt\",\n",
        "                 \"Dockerfile\",\n",
        "                 \"setup.py\",\n",
        "                 \".dockerignore\"\n",
        "]\n",
        "\n",
        "for file in list_of_files:\n",
        "    file_path = Path(file)\n",
        "    file_dir, file_name = os.path.split(file_path)\n",
        "    if file_dir != \"\":\n",
        "        os.makedirs(file_dir, exist_ok=True)\n",
        "        logging.info(f\"Creating directory: {file_dir} for the file {file_name}\")\n",
        "\n",
        "    if (not os.path.exists(file_path)) or (os.path.getsize(file_path) == 0):\n",
        "        with open(file_path, \"w\") as f:\n",
        "            pass\n",
        "            logging.info(f\"Creating empty file: {file_path}\")\n",
        "\n",
        "    else:\n",
        "      logging.info(f\"{file_name} already exists\")"
      ]
    },
    {
      "cell_type": "code",
      "source": [],
      "metadata": {
        "id": "pI_w8yjI6HKu"
      },
      "execution_count": null,
      "outputs": []
    }
  ]
}